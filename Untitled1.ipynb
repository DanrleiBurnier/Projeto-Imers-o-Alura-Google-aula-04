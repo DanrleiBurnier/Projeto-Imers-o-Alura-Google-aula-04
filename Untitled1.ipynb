{
  "nbformat": 4,
  "nbformat_minor": 0,
  "metadata": {
    "colab": {
      "provenance": [],
      "authorship_tag": "ABX9TyPKwzNzpmKaVGPFcEASrFL6",
      "include_colab_link": true
    },
    "kernelspec": {
      "name": "python3",
      "display_name": "Python 3"
    },
    "language_info": {
      "name": "python"
    }
  },
  "cells": [
    {
      "cell_type": "markdown",
      "metadata": {
        "id": "view-in-github",
        "colab_type": "text"
      },
      "source": [
        "<a href=\"https://colab.research.google.com/github/DanrleiBurnier/Projeto-Imers-o-Alura-Google-aula-04/blob/main/Untitled1.ipynb\" target=\"_parent\"><img src=\"https://colab.research.google.com/assets/colab-badge.svg\" alt=\"Open In Colab\"/></a>"
      ]
    },
    {
      "cell_type": "markdown",
      "source": [
        "# Instalando o SDK do Google"
      ],
      "metadata": {
        "id": "UUOtZCkESiCI"
      }
    },
    {
      "cell_type": "code",
      "source": [
        "!pip install -q -U google-generativeai"
      ],
      "metadata": {
        "id": "UUv6ZmUFSZ2r"
      },
      "execution_count": 2,
      "outputs": []
    },
    {
      "cell_type": "markdown",
      "source": [
        "# Carregue sua API Key do Google Cloud Platform"
      ],
      "metadata": {
        "id": "jKYTn4cGSzlC"
      }
    },
    {
      "cell_type": "code",
      "source": [
        "import google.generativeai as genai\n",
        "from google.colab import userdata\n",
        "api_key = userdata.get('secret_key')\n",
        "genai.configure(api_key=api_key)"
      ],
      "metadata": {
        "id": "Jfk67x-SSywk"
      },
      "execution_count": 26,
      "outputs": []
    },
    {
      "cell_type": "markdown",
      "source": [
        "# Defina as configurações de geração"
      ],
      "metadata": {
        "id": "dwH3fg54T240"
      }
    },
    {
      "cell_type": "code",
      "source": [
        "generation_config = {\n",
        "    \"candidate_count\": 1,\n",
        "    \"temperature\": 0.5,\n",
        "}"
      ],
      "metadata": {
        "id": "VBAYE3DUTytC"
      },
      "execution_count": 4,
      "outputs": []
    },
    {
      "cell_type": "markdown",
      "source": [
        "# Defina as configurações de segurança"
      ],
      "metadata": {
        "id": "8BpwvH0mUJrK"
      }
    },
    {
      "cell_type": "code",
      "source": [
        "safety_settings={\n",
        "    'HATE': 'BLOCK_NONE',\n",
        "    'HARASSMENT': 'BLOCK_NONE',\n",
        "    'SEXUAL' : 'BLOCK_NONE',\n",
        "    'DANGEROUS' : 'BLOCK_NONE'\n",
        "}"
      ],
      "metadata": {
        "id": "DQim-K7zUHVi"
      },
      "execution_count": 5,
      "outputs": []
    },
    {
      "cell_type": "markdown",
      "source": [
        "# Crie o modelo de linguagem"
      ],
      "metadata": {
        "id": "qJicVuycUqIy"
      }
    },
    {
      "cell_type": "code",
      "source": [
        "model = genai.GenerativeModel(model_name='gemini-1.0-pro',\n",
        "                              generation_config=generation_config,\n",
        "                              safety_settings=safety_settings,)"
      ],
      "metadata": {
        "id": "_Kcz8I-LUqmz"
      },
      "execution_count": 6,
      "outputs": []
    },
    {
      "cell_type": "markdown",
      "source": [
        "#Funções\n"
      ],
      "metadata": {
        "id": "uGgMPm2MVLEb"
      }
    },
    {
      "cell_type": "code",
      "source": [
        "def do_nothing():\n",
        "  \"\"\"Função que não faz nada.\"\"\"\n",
        "  return \"O que você gostaria de fazer?\""
      ],
      "metadata": {
        "id": "_XKHCL_3Vw0A"
      },
      "execution_count": 8,
      "outputs": []
    },
    {
      "cell_type": "code",
      "source": [
        "def escuta_ativa(prompt):\n",
        "  \"\"\"Demonstra empatia e escuta atentamente.\"\"\"\n",
        "  return f\"Entendo que você está se sentindo {prompt}. Posso te ajudar de alguma forma?\""
      ],
      "metadata": {
        "id": "oKkGPt8TWEVM"
      },
      "execution_count": 9,
      "outputs": []
    },
    {
      "cell_type": "code",
      "source": [
        "def identificar_gatilhos(prompt):\n",
        "  \"\"\"Auxilia na identificação de gatilhos da ansiedade.\"\"\"\n",
        "  return f\"O que geralmente te deixa ansioso(a) em {prompt}?\""
      ],
      "metadata": {
        "id": "Bn4Z-tv5WIA7"
      },
      "execution_count": 10,
      "outputs": []
    },
    {
      "cell_type": "code",
      "source": [
        "def relaxamento(tipo):\n",
        "  \"\"\"Oferece técnicas de relaxamento.\"\"\"\n",
        "  if tipo == \"respiracao\":\n",
        "    return \"\"\"\n",
        "    **Exercício de Respiração Profunda:**\n",
        "\n",
        "    1. Sente-se confortavelmente com as costas retas.\n",
        "    2. Feche os olhos e relaxe os músculos do rosto e do corpo.\n",
        "    3. Inspire profundamente pelo nariz, expandindo o abdome.\n",
        "    4. Segure a respiração por alguns segundos.\n",
        "    5. Exale lentamente pela boca, contraindo o abdome.\n",
        "    6. Repita por alguns minutos.\n",
        "    \"\"\"\n",
        "  elif tipo == \"meditacao\":\n",
        "    return \"\"\"\n",
        "    **Meditação Guiada:**\n",
        "\n",
        "    1. Encontre um lugar tranquilo e sente-se confortavelmente.\n",
        "    2. Feche os olhos e concentre-se na sua respiração.\n",
        "    3. Observe seus pensamentos e emoções sem julgamento.\n",
        "    4. Se sua mente vagar, traga-a gentilmente de volta à sua respiração.\n",
        "    5. Continue por alguns minutos.\n",
        "    \"\"\"\n",
        "  elif tipo == \"mindfulness\":\n",
        "    return \"\"\"\n",
        "    **Exercício de Mindfulness:**\n",
        "\n",
        "    1. Preste atenção no momento presente, sem julgamento.\n",
        "    2. Observe seus pensamentos, emoções e sensações físicas.\n",
        "    3. Aceite seus pensamentos e emoções sem se envolver com eles.\n",
        "    4. Concentre-se na sua respiração ou em um objeto específico.\n",
        "    5. Continue por alguns minutos.\n",
        "    \"\"\"\n",
        "  else:\n",
        "    return f\"Desculpe, não entendi o tipo de relaxamento que você mencionou.\""
      ],
      "metadata": {
        "id": "Oncz57WxWZEz"
      },
      "execution_count": 11,
      "outputs": []
    },
    {
      "cell_type": "code",
      "source": [
        "def psicoeducacao(topico):\n",
        "  \"\"\"Fornece informações sobre a ansiedade.\"\"\"\n",
        "  if topico == \"sintomas\":\n",
        "    return \"\"\"\n",
        "    **Sintomas da Ansiedade:**\n",
        "\n",
        "    * Sensação de nervosismo ou inquietação\n",
        "    * Dificuldade de se concentrar\n",
        "    * Irritabilidade\n",
        "    * Fadiga\n",
        "    * Dificuldades para dormir\n",
        "    * Tensão muscular\n",
        "    * Sudorese\n",
        "    * Tremores\n",
        "    * Palpitações cardíacas\n",
        "    * Dificuldade para respirar\n",
        "    * Pensamentos negativos ou intrusivos\n",
        "    \"\"\"\n",
        "  elif topico == \"causas\":\n",
        "    return \"\"\"\n",
        "    **Causas da Ansiedade:**\n",
        "\n",
        "    * Fatores genéticos\n",
        "    * Eventos traumáticos\n",
        "    * Estresse\n",
        "    * Doenças físicas\n",
        "    * Uso de substâncias\n",
        "    * Certos medicamentos\n",
        "    \"\"\"\n",
        "  elif topico == \"tratamento\":\n",
        "    return \"\"\"\n",
        "    **Tratamento da Ansiedade:**\n",
        "\n",
        "    * **Terapia:** A terapia cognitivo-comportamental (TCC) é um tratamento eficaz para a ansiedade. A TCC ajuda a identificar e modificar pensamentos e comportamentos negativos que contribuem para a ansiedade.\n",
        "    * **Medicação:** Medicamentos antidepressivos e ansiolíticos podem ser prescritos para ajudar a aliviar os sintomas da ansiedade.\n",
        "    * **Mudanças no estilo de vida:** Praticar exercícios regularmente, ter uma boa noite de sono, seguir uma dieta saudável e evitar cafeína e álcool podem ajudar a reduzir a ansiedade.\n",
        "    * **Técnicas de relaxamento:** Técnicas como respiração profunda, meditação e mindfulness podem ajudar a gerenciar o estresse e a ansiedade.\n",
        "\n",
        "    É importante buscar ajuda profissional de um psicólogo ou psiquiatra para obter um diagnóstico preciso e receber o tratamento adequado.\n",
        "    \"\"\"\n",
        "  else:\n",
        "    return f\"Desculpe, não entendi o tópico de psicoeducação que você mencionou.\"\n",
        "\n",
        ""
      ],
      "metadata": {
        "id": "GZarANM8Wclb"
      },
      "execution_count": 17,
      "outputs": []
    },
    {
      "cell_type": "code",
      "source": [
        "chat = model.start_chat(history=[])"
      ],
      "metadata": {
        "id": "YAvHuxmWbknC"
      },
      "execution_count": 21,
      "outputs": []
    },
    {
      "cell_type": "code",
      "source": [
        "prompt = input(\"Esperando prompt: \")\n",
        "\n",
        "while prompt != \"fim\":\n",
        "  response = chat.send_message(prompt)\n",
        "  print(\"Resposta: \", response.text, \"\\n\")\n",
        "  prompt = input(\"Esperando prompt: \")"
      ],
      "metadata": {
        "colab": {
          "base_uri": "https://localhost:8080/",
          "height": 86
        },
        "id": "3V9QJN7WblxG",
        "outputId": "880962bc-72cd-421c-f3b3-33b0c2e2c6dd"
      },
      "execution_count": 27,
      "outputs": [
        {
          "name": "stdout",
          "output_type": "stream",
          "text": [
            "Esperando prompt: olá\n",
            "Resposta:  Olá! Como posso ajudá-lo hoje? \n",
            "\n",
            "Esperando prompt: fim\n"
          ]
        }
      ]
    }
  ]
}